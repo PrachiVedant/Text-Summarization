{
 "cells": [
  {
   "cell_type": "code",
   "execution_count": 28,
   "id": "bc6aca43",
   "metadata": {},
   "outputs": [],
   "source": [
    "import os"
   ]
  },
  {
   "cell_type": "code",
   "execution_count": 29,
   "id": "610b68d7",
   "metadata": {},
   "outputs": [
    {
     "data": {
      "text/plain": [
       "'c:\\\\Text-Summarization\\\\research'"
      ]
     },
     "execution_count": 29,
     "metadata": {},
     "output_type": "execute_result"
    }
   ],
   "source": [
    "%pwd"
   ]
  },
  {
   "cell_type": "code",
   "execution_count": 30,
   "id": "605964df",
   "metadata": {},
   "outputs": [],
   "source": [
    "os.chdir(\"../\")"
   ]
  },
  {
   "cell_type": "code",
   "execution_count": 31,
   "id": "f75670f5",
   "metadata": {},
   "outputs": [
    {
     "data": {
      "text/plain": [
       "'c:\\\\Text-Summarization'"
      ]
     },
     "execution_count": 31,
     "metadata": {},
     "output_type": "execute_result"
    }
   ],
   "source": [
    "%pwd"
   ]
  },
  {
   "cell_type": "code",
   "execution_count": 64,
   "id": "46d27faf",
   "metadata": {},
   "outputs": [],
   "source": [
    "from dataclasses import dataclass\n",
    "from pathlib import Path\n",
    "\n",
    "@dataclass(frozen=True)\n",
    "class DataIngestionConfig:\n",
    "    root_dir: Path\n",
    "    source_url: str\n",
    "    local_data_file: Path\n",
    "    unzip_dir: Path"
   ]
  },
  {
   "cell_type": "code",
   "execution_count": 65,
   "id": "21eb9065",
   "metadata": {},
   "outputs": [],
   "source": [
    "import sys\n",
    "sys.path.append(\"src\")"
   ]
  },
  {
   "cell_type": "code",
   "execution_count": 66,
   "id": "fdc2d157",
   "metadata": {},
   "outputs": [
    {
     "name": "stdout",
     "output_type": "stream",
     "text": [
      "Obtaining file:///C:/Text-Summarization/src\n",
      "Note: you may need to restart the kernel to use updated packages.\n"
     ]
    },
    {
     "name": "stderr",
     "output_type": "stream",
     "text": [
      "ERROR: file:///C:/Text-Summarization/src does not appear to be a Python project: neither 'setup.py' nor 'pyproject.toml' found.\n",
      "\n",
      "[notice] A new release of pip is available: 24.0 -> 25.2\n",
      "[notice] To update, run: python.exe -m pip install --upgrade pip\n"
     ]
    }
   ],
   "source": [
    "\n",
    "%pip install -e src\n",
    "\n",
    "import sys\n",
    "from pathlib import Path\n",
    "\n",
    "src_path = str((Path.cwd().parent / \"src\").resolve())\n",
    "if src_path not in sys.path:\n",
    "\tsys.path.append(src_path)\n",
    "\n",
    "from Text_Summarization.constants import *\n",
    "from Text_Summarization.utils.common import read_yaml, create_dictionaries\n"
   ]
  },
  {
   "cell_type": "code",
   "execution_count": 67,
   "id": "df757487",
   "metadata": {},
   "outputs": [],
   "source": [
    "from pathlib import Path\n",
    "CONFIG_FILE_PATH = Path(\"config/config.yaml\")\n",
    "PARAMS_FILE_PATH = Path(\"params.yaml\")\n",
    "\n",
    "class ConfigurationManager:\n",
    "    def __init__(self,\n",
    "                 config_filepath = CONFIG_FILE_PATH,\n",
    "                 params_filepath = PARAMS_FILE_PATH):\n",
    "        \n",
    "        self.config = read_yaml(config_filepath)\n",
    "        self.params = read_yaml(params_filepath)\n",
    "\n",
    "        create_dictionaries([self.config.artifacts_root],verbose=True)\n",
    "\n",
    "    def get_data_ingestion_config(self) -> DataIngestionConfig:\n",
    "        config = self.config.data_ingestion\n",
    "\n",
    "        create_dictionaries([config.root_dir],verbose=True)\n",
    "\n",
    "        data_ingestion_config = DataIngestionConfig(\n",
    "            root_dir=config.root_dir,\n",
    "            source_url=config.source_url,\n",
    "            local_data_file=config.local_data_file,\n",
    "            unzip_dir=config.unzip_dir\n",
    "        )\n",
    "\n",
    "        return data_ingestion_config\n"
   ]
  },
  {
   "cell_type": "code",
   "execution_count": 68,
   "id": "07d158e1",
   "metadata": {},
   "outputs": [],
   "source": [
    "import os\n",
    "import urllib.request as request\n",
    "import zipfile\n",
    "from Text_Summarization.utils.common import get_size\n",
    "from Text_Summarization.logging import logging\n"
   ]
  },
  {
   "cell_type": "code",
   "execution_count": 69,
   "id": "56287896",
   "metadata": {},
   "outputs": [],
   "source": [
    "class DataIngestion:\n",
    "    def __init__(self,config: DataIngestionConfig):\n",
    "        self.config = config\n",
    "\n",
    "    def download_data(self):\n",
    "        if not os.path.exists(self.config.local_data_file):\n",
    "            filename,headers = request.urlretrieve(\n",
    "                url=self.config.source_url,\n",
    "                filename=self.config.local_data_file\n",
    "            )\n",
    "            logging.info(f\"{filename} download! with following info: \\n{headers}\")\n",
    "        else:\n",
    "            logging.info(f\"Data already downloaded to {self.config.local_data_file}\")\n",
    "\n",
    "    def unzip_data(self):\n",
    "        unzip_path = self.config.unzip_dir\n",
    "        os.makedirs(unzip_path,exist_ok=True)\n",
    "        with zipfile.ZipFile(self.config.local_data_file,'r') as zip_ref:\n",
    "            zip_ref.extractall(unzip_path)"
   ]
  },
  {
   "cell_type": "code",
   "execution_count": 74,
   "id": "c9661315",
   "metadata": {},
   "outputs": [
    {
     "name": "stdout",
     "output_type": "stream",
     "text": [
      "[2025-08-23 13:01:06,220] INFO - 2040867305 - artifacts/data_ingestion/data.zip download! with following info: \n",
      "Connection: close\n",
      "Content-Length: 23627009\n",
      "Cache-Control: max-age=300\n",
      "Content-Security-Policy: default-src 'none'; style-src 'unsafe-inline'; sandbox\n",
      "Content-Type: application/zip\n",
      "ETag: \"2e7409b328d118a1d37018be788babf8bf9640386387da766ac100e96efa3b93\"\n",
      "Strict-Transport-Security: max-age=31536000\n",
      "X-Content-Type-Options: nosniff\n",
      "X-Frame-Options: deny\n",
      "X-XSS-Protection: 1; mode=block\n",
      "X-GitHub-Request-Id: 4535:3495A1:5733A:EB3D9:68A9687C\n",
      "Accept-Ranges: bytes\n",
      "Date: Sat, 23 Aug 2025 07:31:00 GMT\n",
      "Via: 1.1 varnish\n",
      "X-Served-By: cache-maa10239-MAA\n",
      "X-Cache: HIT\n",
      "X-Cache-Hits: 0\n",
      "X-Timer: S1755934260.209472,VS0,VE222\n",
      "Vary: Authorization,Accept-Encoding\n",
      "Access-Control-Allow-Origin: *\n",
      "Cross-Origin-Resource-Policy: cross-origin\n",
      "X-Fastly-Request-ID: 4a3012c0beb0320640041f04620d16f33dbd7f2f\n",
      "Expires: Sat, 23 Aug 2025 07:36:00 GMT\n",
      "Source-Age: 0\n",
      "\n",
      "\n",
      "Error: \n"
     ]
    }
   ],
   "source": [
    "try:\n",
    "    if not CONFIG_FILE_PATH.exists():\n",
    "        raise FileNotFoundError(f\"Config file not found: {CONFIG_FILE_PATH.resolve()}\")\n",
    "\n",
    "    # Remove corrupted zip file if it exists\n",
    "    if os.path.exists(local_zip) and not zipfile.is_zipfile(local_zip):\n",
    "        os.remove(local_zip)\n",
    "\n",
    "    data_ingestion = DataIngestion(data_ingestion_config)\n",
    "\n",
    "    data_ingestion.download_data()\n",
    "\n",
    "    # Check if the downloaded file is a valid zip file before unzipping\n",
    "    if not os.path.exists(local_zip):\n",
    "        raise FileNotFoundError(f\"Downloaded file not found: {local_zip}\")\n",
    "    if not zipfile.is_zipfile(local_zip):\n",
    "        os.remove(local_zip)\n",
    "        raise zipfile.BadZipFile(f\"Downloaded file is not a valid zip file: {local_zip}\")\n",
    "    data_ingestion.unzip_data()\n",
    "except Exception as e:\n",
    "    print(f\"Error: {e}\")\n"
   ]
  },
  {
   "cell_type": "code",
   "execution_count": 75,
   "id": "d296022b",
   "metadata": {},
   "outputs": [
    {
     "name": "stdout",
     "output_type": "stream",
     "text": [
      "0\n"
     ]
    }
   ],
   "source": [
    "import os\n",
    "print(os.path.getsize(\"artifacts/data_ingestion/data.zip\"))"
   ]
  },
  {
   "cell_type": "code",
   "execution_count": null,
   "id": "7852a4c7",
   "metadata": {},
   "outputs": [],
   "source": []
  }
 ],
 "metadata": {
  "kernelspec": {
   "display_name": "venv",
   "language": "python",
   "name": "python3"
  },
  "language_info": {
   "codemirror_mode": {
    "name": "ipython",
    "version": 3
   },
   "file_extension": ".py",
   "mimetype": "text/x-python",
   "name": "python",
   "nbconvert_exporter": "python",
   "pygments_lexer": "ipython3",
   "version": "3.11.9"
  }
 },
 "nbformat": 4,
 "nbformat_minor": 5
}
