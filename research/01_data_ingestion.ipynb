{
 "cells": [
  {
   "cell_type": "code",
   "execution_count": 1,
   "id": "bc6aca43",
   "metadata": {},
   "outputs": [],
   "source": [
    "import os"
   ]
  },
  {
   "cell_type": "code",
   "execution_count": 2,
   "id": "610b68d7",
   "metadata": {},
   "outputs": [
    {
     "data": {
      "text/plain": [
       "'c:\\\\Text-Summarization\\\\research'"
      ]
     },
     "execution_count": 2,
     "metadata": {},
     "output_type": "execute_result"
    }
   ],
   "source": [
    "%pwd"
   ]
  },
  {
   "cell_type": "code",
   "execution_count": 3,
   "id": "605964df",
   "metadata": {},
   "outputs": [],
   "source": [
    "os.chdir(\"../\")"
   ]
  },
  {
   "cell_type": "code",
   "execution_count": 4,
   "id": "f75670f5",
   "metadata": {},
   "outputs": [
    {
     "data": {
      "text/plain": [
       "'c:\\\\Text-Summarization'"
      ]
     },
     "execution_count": 4,
     "metadata": {},
     "output_type": "execute_result"
    }
   ],
   "source": [
    "%pwd"
   ]
  },
  {
   "cell_type": "code",
   "execution_count": 5,
   "id": "46d27faf",
   "metadata": {},
   "outputs": [],
   "source": [
    "from dataclasses import dataclass\n",
    "from pathlib import Path\n",
    "\n",
    "@dataclass(frozen=True)\n",
    "class DataIngestionConfig:\n",
    "    root_dir: Path\n",
    "    source_url: str\n",
    "    local_data_file: Path\n",
    "    unzip_dir: Path"
   ]
  },
  {
   "cell_type": "code",
   "execution_count": 6,
   "id": "21eb9065",
   "metadata": {},
   "outputs": [],
   "source": [
    "import sys\n",
    "sys.path.append(\"src\")"
   ]
  },
  {
   "cell_type": "code",
   "execution_count": 7,
   "id": "fdc2d157",
   "metadata": {},
   "outputs": [
    {
     "name": "stdout",
     "output_type": "stream",
     "text": [
      "Obtaining file:///C:/Text-Summarization/src\n",
      "Note: you may need to restart the kernel to use updated packages.\n"
     ]
    },
    {
     "name": "stderr",
     "output_type": "stream",
     "text": [
      "\n",
      "[notice] A new release of pip is available: 25.1.1 -> 25.2\n",
      "[notice] To update, run: python.exe -m pip install --upgrade pip\n",
      "ERROR: file:///C:/Text-Summarization/src does not appear to be a Python project: neither 'setup.py' nor 'pyproject.toml' found.\n"
     ]
    }
   ],
   "source": [
    "\n",
    "%pip install -e src\n",
    "\n",
    "import sys\n",
    "from pathlib import Path\n",
    "\n",
    "src_path = str((Path.cwd().parent / \"src\").resolve())\n",
    "if src_path not in sys.path:\n",
    "\tsys.path.append(src_path)\n",
    "\n",
    "from Text_Summarization.constants import *\n",
    "from Text_Summarization.utils.common import read_yaml, create_dictionaries\n"
   ]
  },
  {
   "cell_type": "code",
   "execution_count": 8,
   "id": "df757487",
   "metadata": {},
   "outputs": [],
   "source": [
    "from pathlib import Path\n",
    "CONFIG_FILE_PATH = Path(\"config/config.yaml\")\n",
    "PARAMS_FILE_PATH = Path(\"params.yaml\")\n",
    "\n",
    "class ConfigurationManager:\n",
    "    def __init__(self,\n",
    "                 config_filepath = CONFIG_FILE_PATH,\n",
    "                 params_filepath = PARAMS_FILE_PATH):\n",
    "        \n",
    "        self.config = read_yaml(config_filepath)\n",
    "        self.params = read_yaml(params_filepath)\n",
    "\n",
    "        create_dictionaries([self.config.artifacts_root],verbose=True)\n",
    "\n",
    "    def get_data_ingestion_config(self) -> DataIngestionConfig:\n",
    "        config = self.config.data_ingestion\n",
    "\n",
    "        create_dictionaries([config.root_dir],verbose=True)\n",
    "\n",
    "        data_ingestion_config = DataIngestionConfig(\n",
    "            root_dir=config.root_dir,\n",
    "            source_url=config.source_url,\n",
    "            local_data_file=config.local_data_file,\n",
    "            unzip_dir=config.unzip_dir\n",
    "        )\n",
    "\n",
    "        return data_ingestion_config\n"
   ]
  },
  {
   "cell_type": "code",
   "execution_count": 9,
   "id": "07d158e1",
   "metadata": {},
   "outputs": [],
   "source": [
    "import os\n",
    "import urllib.request as request\n",
    "import zipfile\n",
    "from Text_Summarization.utils.common import get_size\n",
    "from Text_Summarization.logging import logging\n"
   ]
  },
  {
   "cell_type": "code",
   "execution_count": 10,
   "id": "56287896",
   "metadata": {},
   "outputs": [],
   "source": [
    "class DataIngestion:\n",
    "    def __init__(self,config: DataIngestionConfig):\n",
    "        self.config = config\n",
    "\n",
    "    def download_data(self):\n",
    "        if not os.path.exists(self.config.local_data_file):\n",
    "            filename,headers = request.urlretrieve(\n",
    "                url=self.config.source_url,\n",
    "                filename=self.config.local_data_file\n",
    "            )\n",
    "            logging.info(f\"{filename} download! with following info: \\n{headers}\")\n",
    "        else:\n",
    "            logging.info(f\"Data already downloaded to {self.config.local_data_file}\")\n",
    "\n",
    "    def unzip_data(self):\n",
    "        unzip_path = self.config.unzip_dir\n",
    "        os.makedirs(unzip_path,exist_ok=True)\n",
    "        with zipfile.ZipFile(self.config.local_data_file,'r') as zip_ref:\n",
    "            zip_ref.extractall(unzip_path)"
   ]
  },
  {
   "cell_type": "code",
   "execution_count": 13,
   "id": "c9661315",
   "metadata": {},
   "outputs": [
    {
     "name": "stdout",
     "output_type": "stream",
     "text": [
      "[2025-08-25 14:12:35,431] INFO - common - YAML file loaded successfully from config\\config.yaml\n",
      "[2025-08-25 14:12:35,433] INFO - common - YAML file loaded successfully from params.yaml\n",
      "[2025-08-25 14:12:35,435] INFO - common - Created directory at artifacts\n",
      "[2025-08-25 14:12:35,433] INFO - common - YAML file loaded successfully from params.yaml\n",
      "[2025-08-25 14:12:35,435] INFO - common - Created directory at artifacts\n",
      "[2025-08-25 14:12:35,466] INFO - common - Created directory at artifacts/data_ingestion\n",
      "[2025-08-25 14:12:35,466] INFO - common - Created directory at artifacts/data_ingestion\n",
      "[2025-08-25 14:12:39,695] INFO - 2040867305 - artifacts/data_ingestion/data.zip download! with following info: \n",
      "Connection: close\n",
      "Content-Length: 7903594\n",
      "Cache-Control: max-age=300\n",
      "Content-Security-Policy: default-src 'none'; style-src 'unsafe-inline'; sandbox\n",
      "Content-Type: application/zip\n",
      "ETag: \"dbc016a060da18070593b83afff580c9b300f0b6ea4147a7988433e04df246ca\"\n",
      "Strict-Transport-Security: max-age=31536000\n",
      "X-Content-Type-Options: nosniff\n",
      "X-Frame-Options: deny\n",
      "X-XSS-Protection: 1; mode=block\n",
      "X-GitHub-Request-Id: 86A0:262F3E:2E4AEE:7D78B9:68AC21FB\n",
      "Accept-Ranges: bytes\n",
      "Date: Mon, 25 Aug 2025 08:42:37 GMT\n",
      "Via: 1.1 varnish\n",
      "X-Served-By: cache-maa10221-MAA\n",
      "X-Cache: MISS\n",
      "X-Cache-Hits: 0\n",
      "X-Timer: S1756111357.971640,VS0,VE718\n",
      "Vary: Authorization,Accept-Encoding\n",
      "Access-Control-Allow-Origin: *\n",
      "Cross-Origin-Resource-Policy: cross-origin\n",
      "X-Fastly-Request-ID: a391bf4d863e9d62a3364b078f64b42015c3cca5\n",
      "Expires: Mon, 25 Aug 2025 08:47:37 GMT\n",
      "Source-Age: 0\n",
      "\n",
      "\n",
      "[2025-08-25 14:12:39,695] INFO - 2040867305 - artifacts/data_ingestion/data.zip download! with following info: \n",
      "Connection: close\n",
      "Content-Length: 7903594\n",
      "Cache-Control: max-age=300\n",
      "Content-Security-Policy: default-src 'none'; style-src 'unsafe-inline'; sandbox\n",
      "Content-Type: application/zip\n",
      "ETag: \"dbc016a060da18070593b83afff580c9b300f0b6ea4147a7988433e04df246ca\"\n",
      "Strict-Transport-Security: max-age=31536000\n",
      "X-Content-Type-Options: nosniff\n",
      "X-Frame-Options: deny\n",
      "X-XSS-Protection: 1; mode=block\n",
      "X-GitHub-Request-Id: 86A0:262F3E:2E4AEE:7D78B9:68AC21FB\n",
      "Accept-Ranges: bytes\n",
      "Date: Mon, 25 Aug 2025 08:42:37 GMT\n",
      "Via: 1.1 varnish\n",
      "X-Served-By: cache-maa10221-MAA\n",
      "X-Cache: MISS\n",
      "X-Cache-Hits: 0\n",
      "X-Timer: S1756111357.971640,VS0,VE718\n",
      "Vary: Authorization,Accept-Encoding\n",
      "Access-Control-Allow-Origin: *\n",
      "Cross-Origin-Resource-Policy: cross-origin\n",
      "X-Fastly-Request-ID: a391bf4d863e9d62a3364b078f64b42015c3cca5\n",
      "Expires: Mon, 25 Aug 2025 08:47:37 GMT\n",
      "Source-Age: 0\n",
      "\n",
      "\n"
     ]
    }
   ],
   "source": [
    "try:\n",
    "    if not CONFIG_FILE_PATH.exists():\n",
    "        raise FileNotFoundError(f\"Config file not found: {CONFIG_FILE_PATH.resolve()}\")\n",
    "\n",
    "    # Define local_zip from config\n",
    "    data_ingestion_config = ConfigurationManager().get_data_ingestion_config()\n",
    "    local_zip = str(data_ingestion_config.local_data_file)\n",
    "\n",
    "    # Remove corrupted zip file if it exists\n",
    "    if os.path.exists(local_zip) and not zipfile.is_zipfile(local_zip):\n",
    "        os.remove(local_zip)\n",
    "\n",
    "    data_ingestion = DataIngestion(data_ingestion_config)\n",
    "\n",
    "    data_ingestion.download_data()\n",
    "\n",
    "    # Check if the downloaded file is a valid zip file before unzipping\n",
    "    if not os.path.exists(local_zip):\n",
    "        raise FileNotFoundError(f\"Downloaded file not found: {local_zip}\")\n",
    "    if not zipfile.is_zipfile(local_zip):\n",
    "        os.remove(local_zip)\n",
    "        raise zipfile.BadZipFile(f\"Downloaded file is not a valid zip file: {local_zip}\")\n",
    "    data_ingestion.unzip_data()\n",
    "except Exception as e:\n",
    "    print(f\"Error: {e}\")\n"
   ]
  },
  {
   "cell_type": "code",
   "execution_count": null,
   "id": "7852a4c7",
   "metadata": {},
   "outputs": [],
   "source": []
  }
 ],
 "metadata": {
  "kernelspec": {
   "display_name": "Python 3",
   "language": "python",
   "name": "python3"
  },
  "language_info": {
   "codemirror_mode": {
    "name": "ipython",
    "version": 3
   },
   "file_extension": ".py",
   "mimetype": "text/x-python",
   "name": "python",
   "nbconvert_exporter": "python",
   "pygments_lexer": "ipython3",
   "version": "3.11.9"
  }
 },
 "nbformat": 4,
 "nbformat_minor": 5
}
