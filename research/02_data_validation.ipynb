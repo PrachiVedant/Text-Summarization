{
 "cells": [
  {
   "cell_type": "code",
   "execution_count": 1,
   "id": "81cf9304",
   "metadata": {},
   "outputs": [],
   "source": [
    "import os"
   ]
  },
  {
   "cell_type": "code",
   "execution_count": 2,
   "id": "5763d6e8",
   "metadata": {},
   "outputs": [
    {
     "data": {
      "text/plain": [
       "'c:\\\\Text-Summarization\\\\research'"
      ]
     },
     "execution_count": 2,
     "metadata": {},
     "output_type": "execute_result"
    }
   ],
   "source": [
    "%pwd"
   ]
  },
  {
   "cell_type": "code",
   "execution_count": 3,
   "id": "4227c7ad",
   "metadata": {},
   "outputs": [],
   "source": [
    "os.chdir('..\\\\')"
   ]
  },
  {
   "cell_type": "code",
   "execution_count": 4,
   "id": "f767a398",
   "metadata": {},
   "outputs": [
    {
     "data": {
      "text/plain": [
       "'c:\\\\Text-Summarization'"
      ]
     },
     "execution_count": 4,
     "metadata": {},
     "output_type": "execute_result"
    }
   ],
   "source": [
    "%pwd"
   ]
  },
  {
   "cell_type": "code",
   "execution_count": 5,
   "id": "d527bad0",
   "metadata": {},
   "outputs": [],
   "source": [
    "from dataclasses import dataclass\n",
    "from pathlib import Path\n",
    "\n",
    "@dataclass(frozen=True)\n",
    "class DataValidationConfig:\n",
    "    root_dir: Path\n",
    "    STATUS_FILE: Path\n",
    "    ALL_REQUIRED_FILES: list[str]"
   ]
  },
  {
   "cell_type": "code",
   "execution_count": 6,
   "id": "0d7127de",
   "metadata": {},
   "outputs": [],
   "source": [
    "import sys\n",
    "sys.path.append(\"src\")"
   ]
  },
  {
   "cell_type": "code",
   "execution_count": 7,
   "id": "72e3444f",
   "metadata": {},
   "outputs": [
    {
     "name": "stdout",
     "output_type": "stream",
     "text": [
      "Obtaining file:///C:/Text-Summarization/src\n",
      "Note: you may need to restart the kernel to use updated packages.\n"
     ]
    },
    {
     "name": "stderr",
     "output_type": "stream",
     "text": [
      "ERROR: file:///C:/Text-Summarization/src does not appear to be a Python project: neither 'setup.py' nor 'pyproject.toml' found.\n",
      "\n",
      "[notice] A new release of pip is available: 24.0 -> 25.2\n",
      "[notice] To update, run: python.exe -m pip install --upgrade pip\n"
     ]
    }
   ],
   "source": [
    "%pip install -e src\n",
    "\n",
    "import sys\n",
    "from pathlib import Path\n",
    "\n",
    "src_path = str((Path.cwd().parent / \"src\").resolve())\n",
    "if src_path not in sys.path:\n",
    "\tsys.path.append(src_path)\n",
    "\n",
    "from Text_Summarization.constants import *\n",
    "from Text_Summarization.utils.common import read_yaml, create_dictionaries"
   ]
  },
  {
   "cell_type": "code",
   "execution_count": 8,
   "id": "abe07768",
   "metadata": {},
   "outputs": [],
   "source": [
    "from pathlib import Path\n",
    "CONFIG_FILE_PATH = Path(\"config/config.yaml\")\n",
    "PARAMS_FILE_PATH = Path(\"params.yaml\")\n",
    "\n",
    "class ConfigurationManager:\n",
    "    def __init__(self,\n",
    "                 config_filepath = CONFIG_FILE_PATH,\n",
    "                 params_filepath = PARAMS_FILE_PATH):\n",
    "        \n",
    "        self.config = read_yaml(config_filepath)\n",
    "        self.params = read_yaml(params_filepath)\n",
    "\n",
    "        create_dictionaries([self.config.artifacts_root],verbose=True)\n",
    "\n",
    "    def get_validation_config(self) -> DataValidationConfig:\n",
    "        config = self.config.data_validation\n",
    "\n",
    "        create_dictionaries([config.root_dir],verbose=True)\n",
    "\n",
    "        data_validation_config = DataValidationConfig(\n",
    "            root_dir=Path(self.config.data_validation.root_dir),\n",
    "            STATUS_FILE=Path(self.config.data_validation.STATUS_FILE),\n",
    "            ALL_REQUIRED_FILES=self.config.data_validation.ALL_REQUIRED_FILES\n",
    "        )\n",
    "        return data_validation_config"
   ]
  },
  {
   "cell_type": "code",
   "execution_count": 10,
   "id": "1d87cf16",
   "metadata": {},
   "outputs": [],
   "source": [
    "import os\n",
    "import logging"
   ]
  },
  {
   "cell_type": "code",
   "execution_count": 11,
   "id": "4f726851",
   "metadata": {},
   "outputs": [],
   "source": [
    "class DataValidation:\n",
    "    def __init__(self, config: DataValidationConfig):\n",
    "        self.config = config\n",
    "\n",
    "    def validate_data(self):\n",
    "        try:\n",
    "            logging.info(\"Validating data...\")\n",
    "            validation_status = None\n",
    "\n",
    "            all_files = os.listdir(os.path.join(\"artifacts\", \"data_ingestion\", \"samsum_dataset\"))\n",
    "            for files in all_files:\n",
    "                if files not in self.config.ALL_REQUIRED_FILES:\n",
    "                    validation_status = False\n",
    "                    with open(self.config.STATUS_FILE, 'w') as f:\n",
    "                        f.write(f\"Validation status : {validation_status}\")\n",
    "                else:\n",
    "                    validation_status = True\n",
    "                    with open(self.config.STATUS_FILE, 'w') as f:\n",
    "                        f.write(f\"Validation status : {validation_status}\")\n",
    "        \n",
    "            return validation_status\n",
    "        \n",
    "        except Exception as e:\n",
    "            raise e\n",
    "    "
   ]
  },
  {
   "cell_type": "code",
   "execution_count": 13,
   "id": "8ce843b0",
   "metadata": {},
   "outputs": [
    {
     "name": "stdout",
     "output_type": "stream",
     "text": [
      "[2025-08-23 13:55:44,951] INFO - common - YAML file loaded successfully from config\\config.yaml\n",
      "[2025-08-23 13:55:44,952] INFO - common - YAML file loaded successfully from params.yaml\n",
      "[2025-08-23 13:55:44,954] INFO - common - Created directory at artifacts\n",
      "[2025-08-23 13:55:44,954] INFO - common - Created directory at artifacts/data_validation\n",
      "[2025-08-23 13:55:44,955] INFO - 3381640300 - Validating data...\n"
     ]
    }
   ],
   "source": [
    "try:\n",
    "    config = ConfigurationManager()\n",
    "    data_validation_config = config.get_validation_config()\n",
    "\n",
    "    data_validation = DataValidation(config=data_validation_config)\n",
    "    data_validation.validate_data()\n",
    "except Exception as e:\n",
    "    raise e"
   ]
  },
  {
   "cell_type": "code",
   "execution_count": null,
   "id": "ecaf9b7a",
   "metadata": {},
   "outputs": [],
   "source": []
  }
 ],
 "metadata": {
  "kernelspec": {
   "display_name": "venv",
   "language": "python",
   "name": "python3"
  },
  "language_info": {
   "codemirror_mode": {
    "name": "ipython",
    "version": 3
   },
   "file_extension": ".py",
   "mimetype": "text/x-python",
   "name": "python",
   "nbconvert_exporter": "python",
   "pygments_lexer": "ipython3",
   "version": "3.11.9"
  }
 },
 "nbformat": 4,
 "nbformat_minor": 5
}
