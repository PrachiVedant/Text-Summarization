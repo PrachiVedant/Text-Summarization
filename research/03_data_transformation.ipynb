{
 "cells": [
  {
   "cell_type": "code",
   "execution_count": 19,
   "id": "40f1404d",
   "metadata": {},
   "outputs": [],
   "source": [
    "import os\n",
    "os.chdir(\"c:/Text-Summarization\")"
   ]
  },
  {
   "cell_type": "code",
   "execution_count": 20,
   "id": "e540e817",
   "metadata": {},
   "outputs": [
    {
     "data": {
      "text/plain": [
       "'c:\\\\Text-Summarization'"
      ]
     },
     "execution_count": 20,
     "metadata": {},
     "output_type": "execute_result"
    }
   ],
   "source": [
    "%pwd"
   ]
  },
  {
   "cell_type": "code",
   "execution_count": 21,
   "id": "902c0f5a",
   "metadata": {},
   "outputs": [],
   "source": [
    "from dataclasses import dataclass\n",
    "from pathlib import Path\n",
    "\n",
    "@dataclass(frozen=True)\n",
    "class DataTransformationConfig:\n",
    "    root_dir: Path\n",
    "    data_path: Path\n",
    "    tokenizer: str"
   ]
  },
  {
   "cell_type": "code",
   "execution_count": 22,
   "id": "fd596c0b",
   "metadata": {},
   "outputs": [],
   "source": [
    "import sys\n",
    "sys.path.append(\"src\")"
   ]
  },
  {
   "cell_type": "code",
   "execution_count": 23,
   "id": "95524de4",
   "metadata": {},
   "outputs": [
    {
     "name": "stdout",
     "output_type": "stream",
     "text": [
      "Obtaining file:///C:/Text-Summarization/src\n",
      "Note: you may need to restart the kernel to use updated packages.\n"
     ]
    },
    {
     "name": "stderr",
     "output_type": "stream",
     "text": [
      "ERROR: file:///C:/Text-Summarization/src does not appear to be a Python project: neither 'setup.py' nor 'pyproject.toml' found.\n"
     ]
    }
   ],
   "source": [
    "%pip install -e src\n",
    "\n",
    "import sys\n",
    "from pathlib import Path\n",
    "\n",
    "src_path = str((Path.cwd().parent / \"src\").resolve())\n",
    "if src_path not in sys.path:\n",
    "\tsys.path.append(src_path)\n",
    "\n",
    "from Text_Summarization.constants import *\n",
    "from Text_Summarization.utils.common import read_yaml, create_dictionaries"
   ]
  },
  {
   "cell_type": "code",
   "execution_count": 24,
   "id": "97a66d8a",
   "metadata": {},
   "outputs": [],
   "source": [
    "from pathlib import Path\n",
    "CONFIG_FILE_PATH = Path(\"config/config.yaml\")\n",
    "PARAMS_FILE_PATH = Path(\"params.yaml\")\n",
    "\n",
    "class ConfigurationManager:\n",
    "    def __init__(self,\n",
    "                 config_filepath = CONFIG_FILE_PATH,\n",
    "                 params_filepath = PARAMS_FILE_PATH):\n",
    "        \n",
    "        self.config = read_yaml(config_filepath)\n",
    "        self.params = read_yaml(params_filepath)\n",
    "\n",
    "        create_dictionaries([self.config.artifacts_root],verbose=True)\n",
    "\n",
    "    def get_transformation_config(self) -> DataTransformationConfig:\n",
    "        config = self.config.data_transformation\n",
    "\n",
    "        create_dictionaries([config.root_dir], verbose=True)\n",
    "        \n",
    "        data_transformation_config =  DataTransformationConfig(\n",
    "            root_dir=Path(self.config.data_transformation.root_dir),\n",
    "            data_path=Path(self.config.data_transformation.data_path),\n",
    "            tokenizer=self.config.data_transformation.tokenizer\n",
    "        )\n",
    "        return data_transformation_config"
   ]
  },
  {
   "cell_type": "code",
   "execution_count": 25,
   "id": "d6466a2f",
   "metadata": {},
   "outputs": [],
   "source": [
    "import os\n",
    "import logging\n",
    "from transformers import AutoTokenizer\n",
    "from datasets import load_dataset,load_from_disk"
   ]
  },
  {
   "cell_type": "code",
   "execution_count": 26,
   "id": "d6436c33",
   "metadata": {},
   "outputs": [],
   "source": [
    "import shutil\n",
    "\n",
    "class DataTransformation:\n",
    "    def __init__(self,config : DataTransformationConfig):\n",
    "        self.config=config\n",
    "        self.tokenizer = AutoTokenizer.from_pretrained(self.config.tokenizer)\n",
    "\n",
    "    def convert_to_features(self, example_batch):\n",
    "        input_encodings = self.tokenizer(example_batch['dialogue'], max_length=1024, truncation=True)\n",
    "        with self.tokenizer.as_target_tokenizer():\n",
    "            target_encodings = self.tokenizer(example_batch['summary'], max_length=128, truncation=True)\n",
    "        return {\n",
    "            'input_ids': input_encodings['input_ids'],\n",
    "            'attention_mask': input_encodings['attention_mask'],\n",
    "            'labels': target_encodings['input_ids'],\n",
    "        }\n",
    "    \n",
    "    def convert(self):\n",
    "        dataset_samsum = load_from_disk(self.config.data_path)\n",
    "        dataset_samsum_pt = dataset_samsum.map(self.convert_to_features, batched=True)\n",
    "        output_dir = os.path.abspath(os.path.join(self.config.root_dir, \"samsum_dataset\"))\n",
    "        # Remove output directory if it exists\n",
    "        if os.path.exists(output_dir):\n",
    "            shutil.rmtree(output_dir)\n",
    "        os.makedirs(output_dir, exist_ok=True)\n",
    "        dataset_samsum_pt.save_to_disk(output_dir)\n",
    "        print(f\"Saved tokenized dataset to: {output_dir}\")"
   ]
  },
  {
   "cell_type": "code",
   "execution_count": 27,
   "id": "aabb5b38",
   "metadata": {},
   "outputs": [
    {
     "name": "stdout",
     "output_type": "stream",
     "text": [
      "[2025-08-25 14:28:37,814] INFO - common - YAML file loaded successfully from config\\config.yaml\n",
      "[2025-08-25 14:28:37,816] INFO - common - YAML file loaded successfully from params.yaml\n",
      "[2025-08-25 14:28:37,817] INFO - common - Created directory at artifacts\n",
      "[2025-08-25 14:28:37,817] INFO - common - Created directory at artifacts/data_transformation\n",
      "[2025-08-25 14:28:37,816] INFO - common - YAML file loaded successfully from params.yaml\n",
      "[2025-08-25 14:28:37,817] INFO - common - Created directory at artifacts\n",
      "[2025-08-25 14:28:37,817] INFO - common - Created directory at artifacts/data_transformation\n"
     ]
    },
    {
     "name": "stderr",
     "output_type": "stream",
     "text": [
      "Map: 100%|██████████| 14732/14732 [00:01<00:00, 8587.63 examples/s] \n",
      "Map:   0%|          | 0/819 [00:00<?, ? examples/s]\n",
      "Map: 100%|██████████| 819/819 [00:00<00:00, 6042.30 examples/s]\n",
      "Map:   0%|          | 0/818 [00:00<?, ? examples/s]\n",
      "Map: 100%|██████████| 818/818 [00:00<00:00, 5586.15 examples/s]\n",
      "Map: 100%|██████████| 818/818 [00:00<00:00, 5586.15 examples/s]0<?, ? examples/s]\n",
      "Saving the dataset (1/1 shards): 100%|██████████| 14732/14732 [00:00<00:00, 460353.49 examples/s]\n",
      "Saving the dataset (1/1 shards): 100%|██████████| 14732/14732 [00:00<00:00, 460353.49 examples/s]\n",
      "Saving the dataset (1/1 shards): 100%|██████████| 819/819 [00:00<00:00, 98969.57 examples/s]\n",
      "Saving the dataset (1/1 shards): 100%|██████████| 818/818 [00:00<?, ? examples/s]\n",
      "Saving the dataset (1/1 shards): 100%|██████████| 818/818 [00:00<?, ? examples/s]"
     ]
    },
    {
     "name": "stdout",
     "output_type": "stream",
     "text": [
      "Saved tokenized dataset to: c:\\Text-Summarization\\artifacts\\data_transformation\\samsum_dataset\n"
     ]
    },
    {
     "name": "stderr",
     "output_type": "stream",
     "text": [
      "\n"
     ]
    }
   ],
   "source": [
    "try:\n",
    "    config = ConfigurationManager()\n",
    "    data_transformation_config = config.get_transformation_config()\n",
    "\n",
    "    data_transformation = DataTransformation(config=data_transformation_config)\n",
    "    status = data_transformation.convert()\n",
    "except Exception as e:\n",
    "    raise e"
   ]
  },
  {
   "cell_type": "code",
   "execution_count": null,
   "id": "9516d912",
   "metadata": {},
   "outputs": [],
   "source": []
  }
 ],
 "metadata": {
  "kernelspec": {
   "display_name": "Python 3",
   "language": "python",
   "name": "python3"
  },
  "language_info": {
   "codemirror_mode": {
    "name": "ipython",
    "version": 3
   },
   "file_extension": ".py",
   "mimetype": "text/x-python",
   "name": "python",
   "nbconvert_exporter": "python",
   "pygments_lexer": "ipython3",
   "version": "3.11.9"
  }
 },
 "nbformat": 4,
 "nbformat_minor": 5
}
